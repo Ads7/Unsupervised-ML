{
 "cells": [
  {
   "cell_type": "code",
   "execution_count": 12,
   "metadata": {},
   "outputs": [
    {
     "name": "stdout",
     "output_type": "stream",
     "text": [
      "Archive:  /Users/aman/Workspace/DataMining/Aminer.txt.zip\n",
      "  inflating: /Users/aman/Workspace/DataMining/AP_train.txt  \n",
      "   creating: /Users/aman/Workspace/DataMining/__MACOSX/\n",
      "  inflating: /Users/aman/Workspace/DataMining/__MACOSX/._AP_train.txt  \n"
     ]
    }
   ],
   "source": [
    "%%bash\n",
    "# extract data set\n",
    "unzip ~/Workspace/DataMining/Aminer.txt.zip -d ~/Workspace/DataMining/"
   ]
  },
  {
   "cell_type": "code",
   "execution_count": 83,
   "metadata": {},
   "outputs": [
    {
     "name": "stdout",
     "output_type": "stream",
     "text": [
      "#index 1\n",
      "#* Book Review: Discover Linux\n",
      "#@ Marjorie Richardson\n",
      "#t 1998\n",
      "#c Linux Journal\n",
      "\n",
      "#index 2\n",
      "#* MOSFET table look-up models for circuit simulation\n",
      "#@ \n",
      "#t 1984\n"
     ]
    }
   ],
   "source": [
    "%%bash \n",
    "#print sample data\n",
    "head /Users/aman/Workspace/DataMining/AP_train.txt"
   ]
  },
  {
   "cell_type": "code",
   "execution_count": null,
   "metadata": {},
   "outputs": [],
   "source": [
    "%%bash\n",
    "# removing the abstact from each file \n",
    "# hence reducing the size the one-forth(https://aminer.org/citation )\n",
    "sed -i '' '/^#!/d' ~/Workspace/DataMining/AP_train.txt"
   ]
  },
  {
   "cell_type": "markdown",
   "metadata": {},
   "source": [
    "### A. Compute the number of distinct authors, publication venues, publications, and citations/references"
   ]
  },
  {
   "cell_type": "code",
   "execution_count": 224,
   "metadata": {},
   "outputs": [
    {
     "name": "stdout",
     "output_type": "stream",
     "text": [
      "CPU times: user 38.5 s, sys: 4.59 s, total: 43 s\n",
      "Wall time: 45.1 s\n"
     ]
    }
   ],
   "source": [
    "%%time\n",
    "import matplotlib.pyplot as plt\n",
    "import pandas as pd\n",
    "import numpy as np\n",
    "\n",
    "file_data = pd.read_csv('/Users/aman/Workspace/DataMining/file_data.csv', header = None, names=[\"index\",\"title\",\"author\",\"date\", \"veneue\" ],engine='python')\n",
    "ref_data = pd.read_csv('/Users/aman/Workspace/DataMining/AP_ref.txt', header = None, names=[\"index\",\"ref\"],engine='python')"
   ]
  },
  {
   "cell_type": "code",
   "execution_count": 263,
   "metadata": {},
   "outputs": [
    {
     "name": "stdout",
     "output_type": "stream",
     "text": [
      " publication:  1976816\n",
      "authors:  1466894\n",
      "veneues:  255686\n",
      "references:  7250326\n"
     ]
    }
   ],
   "source": [
    "print 'publication: ',len(file_data.index.unique())\n",
    "print 'authors: ',len(file_data.author.unique())\n",
    "print 'veneues: ',len(file_data.veneue.unique())\n",
    "print 'references: ',ref_data.shape[0]"
   ]
  },
  {
   "cell_type": "markdown",
   "metadata": {},
   "source": [
    "### B.Are these numbers likely to be accurate? As an example look up all the publications venue names associated with the conference “Principles and Practice of Knowledge Discovery in Databases”13 – what do you notice?"
   ]
  },
  {
   "cell_type": "code",
   "execution_count": 12,
   "metadata": {},
   "outputs": [
    {
     "data": {
      "text/html": [
       "<div>\n",
       "<style scoped>\n",
       "    .dataframe tbody tr th:only-of-type {\n",
       "        vertical-align: middle;\n",
       "    }\n",
       "\n",
       "    .dataframe tbody tr th {\n",
       "        vertical-align: top;\n",
       "    }\n",
       "\n",
       "    .dataframe thead th {\n",
       "        text-align: right;\n",
       "    }\n",
       "</style>\n",
       "<table border=\"1\" class=\"dataframe\">\n",
       "  <thead>\n",
       "    <tr style=\"text-align: right;\">\n",
       "      <th></th>\n",
       "      <th>index</th>\n",
       "      <th>title</th>\n",
       "      <th>author</th>\n",
       "      <th>date</th>\n",
       "      <th>veneue</th>\n",
       "    </tr>\n",
       "  </thead>\n",
       "  <tbody>\n",
       "    <tr>\n",
       "      <th>799732</th>\n",
       "      <td>799734</td>\n",
       "      <td>Proceedings of the 8th European Conference on ...</td>\n",
       "      <td>Jean-François Boulicaut;Floriana Esposito;Fosc...</td>\n",
       "      <td>2004</td>\n",
       "      <td>PKDD '04 Proceedings of the 8th European Confe...</td>\n",
       "    </tr>\n",
       "    <tr>\n",
       "      <th>921702</th>\n",
       "      <td>921704</td>\n",
       "      <td>Knowledge Discovery in Databases: PKDD 2006: 1...</td>\n",
       "      <td>Johannes Fürnkranz;Tobias Scheffer;Myra Spilio...</td>\n",
       "      <td>2006</td>\n",
       "      <td>Knowledge Discovery in Databases: PKDD 2006: 1...</td>\n",
       "    </tr>\n",
       "    <tr>\n",
       "      <th>936468</th>\n",
       "      <td>936470</td>\n",
       "      <td>Knowledge Discovery in Databases: PKDD 2005: 9...</td>\n",
       "      <td>Alípio Jorge;Luís Torgo;Pavel Brazdil;Rui Cama...</td>\n",
       "      <td>2005</td>\n",
       "      <td>Knowledge Discovery in Databases: PKDD 2005: 9...</td>\n",
       "    </tr>\n",
       "    <tr>\n",
       "      <th>1100119</th>\n",
       "      <td>1100122</td>\n",
       "      <td>Proceedings of the 11th European conference on...</td>\n",
       "      <td>Joost N. Kok;Jacek Koronacki;Ramon Lopez De Ma...</td>\n",
       "      <td>2007</td>\n",
       "      <td>PKDD 2007 Proceedings of the 11th European con...</td>\n",
       "    </tr>\n",
       "    <tr>\n",
       "      <th>1673542</th>\n",
       "      <td>1673547</td>\n",
       "      <td>Proceedings of the 9th European conference on ...</td>\n",
       "      <td>Alípio Mário Jorge;Luís Torgo;Pavel Brazdil;Ru...</td>\n",
       "      <td>2005</td>\n",
       "      <td>PKDD'05 Proceedings of the 9th European confer...</td>\n",
       "    </tr>\n",
       "  </tbody>\n",
       "</table>\n",
       "</div>"
      ],
      "text/plain": [
       "           index                                              title  \\\n",
       "799732    799734  Proceedings of the 8th European Conference on ...   \n",
       "921702    921704  Knowledge Discovery in Databases: PKDD 2006: 1...   \n",
       "936468    936470  Knowledge Discovery in Databases: PKDD 2005: 9...   \n",
       "1100119  1100122  Proceedings of the 11th European conference on...   \n",
       "1673542  1673547  Proceedings of the 9th European conference on ...   \n",
       "\n",
       "                                                    author  date  \\\n",
       "799732   Jean-François Boulicaut;Floriana Esposito;Fosc...  2004   \n",
       "921702   Johannes Fürnkranz;Tobias Scheffer;Myra Spilio...  2006   \n",
       "936468   Alípio Jorge;Luís Torgo;Pavel Brazdil;Rui Cama...  2005   \n",
       "1100119  Joost N. Kok;Jacek Koronacki;Ramon Lopez De Ma...  2007   \n",
       "1673542  Alípio Mário Jorge;Luís Torgo;Pavel Brazdil;Ru...  2005   \n",
       "\n",
       "                                                    veneue  \n",
       "799732   PKDD '04 Proceedings of the 8th European Confe...  \n",
       "921702   Knowledge Discovery in Databases: PKDD 2006: 1...  \n",
       "936468   Knowledge Discovery in Databases: PKDD 2005: 9...  \n",
       "1100119  PKDD 2007 Proceedings of the 11th European con...  \n",
       "1673542  PKDD'05 Proceedings of the 9th European confer...  "
      ]
     },
     "execution_count": 12,
     "metadata": {},
     "output_type": "execute_result"
    }
   ],
   "source": [
    "# %%bash\n",
    "# grep -A5 '^#\\* .*Principles and Practice of Knowledge Discovery in Databases' ~/Workspace/DataMining/AP_train.txt | grep '#\\* ' |sort|uniq -c\n",
    "file_data[file_data['title'].str.contains(\"Principles and Practice of Knowledge Discovery in Databases\", na=False)]\n",
    "#  there is dis-similarity in titles "
   ]
  },
  {
   "cell_type": "markdown",
   "metadata": {},
   "source": [
    "### C. For each author, construct the list of publications. Plot a histogram of the number of publications per author (use a logarithmic scale on the y axis)"
   ]
  },
  {
   "cell_type": "code",
   "execution_count": 8,
   "metadata": {},
   "outputs": [
    {
     "data": {
      "image/png": "[encoded data removed]",
      "text/plain": [
       "<matplotlib.figure.Figure at 0x128bf4b90>"
      ]
     },
     "metadata": {},
     "output_type": "display_data"
    }
   ],
   "source": [
    "data = pd.read_csv('authors.txt', header = None, names=[\"count\",\"author_name\"])\n",
    "np.log(data['count']).plot(y='# author',x='num of publication', kind='hist',bins=7)\n",
    "plt.show()"
   ]
  },
  {
   "cell_type": "markdown",
   "metadata": {},
   "source": [
    "### D. Calculate the mean and standard deviation of the number of publications per author. Also calculate the Q1 (1st quartile14), Q2 (2nd quartile, or median) and Q3 (3rd quartile) values. Compare the median to the mean and explain the difference between the two values based on the standard deviation and the 1st and 3rd quartiles."
   ]
  },
  {
   "cell_type": "code",
   "execution_count": 9,
   "metadata": {},
   "outputs": [
    {
     "name": "stdout",
     "output_type": "stream",
     "text": [
      "3.3118175466\n",
      "8.91621491303\n",
      "0.25    1.0\n",
      "0.50    1.0\n",
      "0.75    3.0\n",
      "Name: count, dtype: float64\n"
     ]
    }
   ],
   "source": [
    "print data[\"count\"].mean()\n",
    "print data[\"count\"].std()\n",
    "print data[\"count\"].quantile([0.25,0.5,0.75])"
   ]
  },
  {
   "cell_type": "markdown",
   "metadata": {},
   "source": [
    "### E. Now plot a histogram of the number of publications per venue, as well as calculate the mean, standard deviation, median, Q1, and Q3 values. What is the venue with the largest number of publications in the dataset?"
   ]
  },
  {
   "cell_type": "code",
   "execution_count": 226,
   "metadata": {},
   "outputs": [
    {
     "name": "stdout",
     "output_type": "stream",
     "text": [
      "mean:  7.84170835695\n",
      "std:  84.5815032851\n",
      "quartiles:\n",
      "0.25    1.0\n",
      "0.50    1.0\n",
      "0.75    1.0\n",
      "Name: count, dtype: float64\n",
      "max occurence:  IEEETransationsonInformationTheory\n"
     ]
    },
    {
     "data": {
      "image/png": "[encoded data removed]",
      "text/plain": [
       "<matplotlib.figure.Figure at 0x15bea00d0>"
      ]
     },
     "metadata": {},
     "output_type": "display_data"
    }
   ],
   "source": [
    "veneue_data = pd.read_csv('veneue.txt', header = None, names=[\"count\",\"name\"])\n",
    "print 'mean: ', veneue_data[\"count\"].mean()\n",
    "print 'std: ', veneue_data[\"count\"].std()\n",
    "print 'quartiles:'\n",
    "print veneue_data[\"count\"].quantile([0.25,0.5,0.75])\n",
    "print 'max occurence: ', veneue_data[\"name\"][veneue_data[\"count\"].idxmax()]\n",
    "veneue_data['count'] = np.log(veneue_data['count'])\n",
    "veneue_data['count'].plot(kind='hist',bins=8)\n",
    "plt.show()"
   ]
  },
  {
   "cell_type": "code",
   "execution_count": null,
   "metadata": {},
   "outputs": [],
   "source": []
  },
  {
   "cell_type": "markdown",
   "metadata": {},
   "source": [
    "### F. Plot a histogram of the number of references (number of publications a publication refers to) and citations (number of publications referring to a publication) per publication. What is the publication with the largest number of references? What is the publication with the largest number of citations? Do these make sense?"
   ]
  },
  {
   "cell_type": "code",
   "execution_count": 289,
   "metadata": {},
   "outputs": [
    {
     "name": "stdout",
     "output_type": "stream",
     "text": [
      "references:  719353 772\n",
      "citaions:  408396 7753\n",
      "Series([], Name: title, dtype: object)\n",
      "Series([], Name: title, dtype: object)\n"
     ]
    },
    {
     "data": {
      "image/png": "[encoded data removed]",
      "text/plain": [
       "<matplotlib.figure.Figure at 0x133c70bd0>"
      ]
     },
     "metadata": {},
     "output_type": "display_data"
    },
    {
     "data": {
      "image/png": "[encoded data removed]",
      "text/plain": [
       "<matplotlib.figure.Figure at 0x119aaae50>"
      ]
     },
     "metadata": {},
     "output_type": "display_data"
    }
   ],
   "source": [
    "max_ref = ref_data.groupby('index').count().idxmax()[0],ref_data.groupby('index').count().max()[0]\n",
    "max_cite = ref_data.groupby('ref').count().idxmax()[0],ref_data.groupby('ref').count().max()[0]\n",
    "df = ref_data.groupby('ref').count().reset_index()\n",
    "df.columns = ['index','ref']\n",
    "print 'references: ', max_ref[0],max_ref[1]\n",
    "print 'citaions: ',max_cite[0],max_cite[1]\n",
    "print file_data[ file_data['index'] == max_ref[0]]['title']\n",
    "print file_data[ file_data['index'] == max_cite[0]]['title']\n",
    "np.log(ref_data.groupby('ref').count()).plot(kind='hist',bins=10)\n",
    "np.log(df.set_index('index')).plot(kind='hist')\n",
    "# .set(xlabel=\"x label\", ylabel=\"y label\")\n",
    "# np.log(ref_data.groupby('index').count().reset_index().set_index('index').divide(df.set_index('index'),axis=0).dropna()).plot(kind='hist')\n",
    "plt.show()"
   ]
  },
  {
   "cell_type": "markdown",
   "metadata": {},
   "source": [
    "### G. Calculate the so called “impact” factor for each venue. To do so, calculate the total number of citations for the publications in the venue, and then divide this number by the number of publications for the venue. Plot a histogram of the results"
   ]
  },
  {
   "cell_type": "code",
   "execution_count": 223,
   "metadata": {},
   "outputs": [
    {
     "ename": "KeyboardInterrupt",
     "evalue": "",
     "output_type": "error",
     "traceback": [
      "\u001b[0;31m--------------------------------------------------------------\u001b[0m",
      "\u001b[0;31mKeyboardInterrupt\u001b[0m            Traceback (most recent call last)",
      "\u001b[0;32m<ipython-input-223-79d471df9a34>\u001b[0m in \u001b[0;36m<module>\u001b[0;34m()\u001b[0m\n\u001b[1;32m      2\u001b[0m \u001b[0mindex_list\u001b[0m \u001b[0;34m=\u001b[0m\u001b[0;34m[\u001b[0m\u001b[0;34m]\u001b[0m\u001b[0;34m\u001b[0m\u001b[0m\n\u001b[1;32m      3\u001b[0m \u001b[0;32mfor\u001b[0m \u001b[0mi\u001b[0m \u001b[0;32min\u001b[0m \u001b[0mfile_data\u001b[0m\u001b[0;34m[\u001b[0m\u001b[0;34m'veneue'\u001b[0m\u001b[0;34m]\u001b[0m\u001b[0;34m.\u001b[0m\u001b[0munique\u001b[0m\u001b[0;34m(\u001b[0m\u001b[0;34m)\u001b[0m\u001b[0;34m:\u001b[0m\u001b[0;34m\u001b[0m\u001b[0m\n\u001b[0;32m----> 4\u001b[0;31m     \u001b[0mindex\u001b[0m \u001b[0;34m=\u001b[0m \u001b[0mfile_data\u001b[0m\u001b[0;34m[\u001b[0m\u001b[0mfile_data\u001b[0m\u001b[0;34m[\u001b[0m\u001b[0;34m'veneue'\u001b[0m\u001b[0;34m]\u001b[0m\u001b[0;34m==\u001b[0m\u001b[0mi\u001b[0m\u001b[0;34m]\u001b[0m\u001b[0;34m[\u001b[0m\u001b[0;34m'index'\u001b[0m\u001b[0;34m]\u001b[0m\u001b[0;34m\u001b[0m\u001b[0m\n\u001b[0m\u001b[1;32m      5\u001b[0m     \u001b[0mindex_list\u001b[0m\u001b[0;34m.\u001b[0m\u001b[0mappend\u001b[0m\u001b[0;34m(\u001b[0m\u001b[0mindex\u001b[0m\u001b[0;34m.\u001b[0m\u001b[0mtolist\u001b[0m\u001b[0;34m(\u001b[0m\u001b[0;34m)\u001b[0m\u001b[0;34m)\u001b[0m\u001b[0;34m\u001b[0m\u001b[0m\n\u001b[1;32m      6\u001b[0m \u001b[0;32mprint\u001b[0m \u001b[0;34m\"index selected\"\u001b[0m\u001b[0;34m\u001b[0m\u001b[0m\n",
      "\u001b[0;32m/Users/aman/.envs/digit_rec/lib/python2.7/site-packages/pandas/core/ops.pyc\u001b[0m in \u001b[0;36mwrapper\u001b[0;34m(self, other, axis)\u001b[0m\n\u001b[1;32m    877\u001b[0m \u001b[0;34m\u001b[0m\u001b[0m\n\u001b[1;32m    878\u001b[0m             \u001b[0;32mwith\u001b[0m \u001b[0mnp\u001b[0m\u001b[0;34m.\u001b[0m\u001b[0merrstate\u001b[0m\u001b[0;34m(\u001b[0m\u001b[0mall\u001b[0m\u001b[0;34m=\u001b[0m\u001b[0;34m'ignore'\u001b[0m\u001b[0;34m)\u001b[0m\u001b[0;34m:\u001b[0m\u001b[0;34m\u001b[0m\u001b[0m\n\u001b[0;32m--> 879\u001b[0;31m                 \u001b[0mres\u001b[0m \u001b[0;34m=\u001b[0m \u001b[0mna_op\u001b[0m\u001b[0;34m(\u001b[0m\u001b[0mvalues\u001b[0m\u001b[0;34m,\u001b[0m \u001b[0mother\u001b[0m\u001b[0;34m)\u001b[0m\u001b[0;34m\u001b[0m\u001b[0m\n\u001b[0m\u001b[1;32m    880\u001b[0m             \u001b[0;32mif\u001b[0m \u001b[0mis_scalar\u001b[0m\u001b[0;34m(\u001b[0m\u001b[0mres\u001b[0m\u001b[0;34m)\u001b[0m\u001b[0;34m:\u001b[0m\u001b[0;34m\u001b[0m\u001b[0m\n\u001b[1;32m    881\u001b[0m                 raise TypeError('Could not compare {typ} type with Series'\n",
      "\u001b[0;32m/Users/aman/.envs/digit_rec/lib/python2.7/site-packages/pandas/core/ops.pyc\u001b[0m in \u001b[0;36mna_op\u001b[0;34m(x, y)\u001b[0m\n\u001b[1;32m    781\u001b[0m \u001b[0;34m\u001b[0m\u001b[0m\n\u001b[1;32m    782\u001b[0m         \u001b[0;32mif\u001b[0m \u001b[0mis_object_dtype\u001b[0m\u001b[0;34m(\u001b[0m\u001b[0mx\u001b[0m\u001b[0;34m.\u001b[0m\u001b[0mdtype\u001b[0m\u001b[0;34m)\u001b[0m\u001b[0;34m:\u001b[0m\u001b[0;34m\u001b[0m\u001b[0m\n\u001b[0;32m--> 783\u001b[0;31m             \u001b[0mresult\u001b[0m \u001b[0;34m=\u001b[0m \u001b[0m_comp_method_OBJECT_ARRAY\u001b[0m\u001b[0;34m(\u001b[0m\u001b[0mop\u001b[0m\u001b[0;34m,\u001b[0m \u001b[0mx\u001b[0m\u001b[0;34m,\u001b[0m \u001b[0my\u001b[0m\u001b[0;34m)\u001b[0m\u001b[0;34m\u001b[0m\u001b[0m\n\u001b[0m\u001b[1;32m    784\u001b[0m         \u001b[0;32melse\u001b[0m\u001b[0;34m:\u001b[0m\u001b[0;34m\u001b[0m\u001b[0m\n\u001b[1;32m    785\u001b[0m \u001b[0;34m\u001b[0m\u001b[0m\n",
      "\u001b[0;32m/Users/aman/.envs/digit_rec/lib/python2.7/site-packages/pandas/core/ops.pyc\u001b[0m in \u001b[0;36m_comp_method_OBJECT_ARRAY\u001b[0;34m(op, x, y)\u001b[0m\n\u001b[1;32m    761\u001b[0m         \u001b[0mresult\u001b[0m \u001b[0;34m=\u001b[0m \u001b[0mlib\u001b[0m\u001b[0;34m.\u001b[0m\u001b[0mvec_compare\u001b[0m\u001b[0;34m(\u001b[0m\u001b[0mx\u001b[0m\u001b[0;34m,\u001b[0m \u001b[0my\u001b[0m\u001b[0;34m,\u001b[0m \u001b[0mop\u001b[0m\u001b[0;34m)\u001b[0m\u001b[0;34m\u001b[0m\u001b[0m\n\u001b[1;32m    762\u001b[0m     \u001b[0;32melse\u001b[0m\u001b[0;34m:\u001b[0m\u001b[0;34m\u001b[0m\u001b[0m\n\u001b[0;32m--> 763\u001b[0;31m         \u001b[0mresult\u001b[0m \u001b[0;34m=\u001b[0m \u001b[0mlib\u001b[0m\u001b[0;34m.\u001b[0m\u001b[0mscalar_compare\u001b[0m\u001b[0;34m(\u001b[0m\u001b[0mx\u001b[0m\u001b[0;34m,\u001b[0m \u001b[0my\u001b[0m\u001b[0;34m,\u001b[0m \u001b[0mop\u001b[0m\u001b[0;34m)\u001b[0m\u001b[0;34m\u001b[0m\u001b[0m\n\u001b[0m\u001b[1;32m    764\u001b[0m     \u001b[0;32mreturn\u001b[0m \u001b[0mresult\u001b[0m\u001b[0;34m\u001b[0m\u001b[0m\n\u001b[1;32m    765\u001b[0m \u001b[0;34m\u001b[0m\u001b[0m\n",
      "\u001b[0;31mKeyboardInterrupt\u001b[0m: "
     ]
    }
   ],
   "source": []
  },
  {
   "cell_type": "code",
   "execution_count": 253,
   "metadata": {},
   "outputs": [
    {
     "data": {
      "text/plain": [
       "['Portland', 'Seattle']"
      ]
     },
     "execution_count": 253,
     "metadata": {},
     "output_type": "execute_result"
    }
   ],
   "source": [
    "# p = pd.DataFrame( { \n",
    "#     \"Name\" : [\"Alice\", \"Bob\", \"Mallory\", \"Mallory\", \"Bob\" , \"Mallory\"] , \n",
    "#     \"City\" : [\"Seattle\", \"Seattle\", \"Portland\", \"Seattle\", \"Seattle\", \"Portland\"] } )\n",
    "# p.groupby('City').get_group('Seattle')['Name'].tolist()\n",
    "\n",
    "# p.groupby('City').groups.keys()\n",
    "grouped = file_data.groupby('veneue')\n",
    "impact_list = dict()\n",
    "for key in grouped.groups.keys()[1:]:\n",
    "    impact_list[key] =  grouped.get_group(key)['index'].tolist()"
   ]
  },
  {
   "cell_type": "code",
   "execution_count": 132,
   "metadata": {},
   "outputs": [],
   "source": [
    "join_count = joined_data.groupby('veneue').nunique()"
   ]
  },
  {
   "cell_type": "code",
   "execution_count": 20,
   "metadata": {},
   "outputs": [],
   "source": [
    "join_count.to_csv('/Users/aman/Workspace/DataMining/data_counts_veneue.csv')"
   ]
  },
  {
   "cell_type": "code",
   "execution_count": 145,
   "metadata": {},
   "outputs": [
    {
     "name": "stderr",
     "output_type": "stream",
     "text": [
      "/Users/aman/.envs/digit_rec/lib/python2.7/site-packages/ipykernel_launcher.py:1: RuntimeWarning: divide by zero encountered in log\n",
      "  \"\"\"Entry point for launching an IPython kernel.\n"
     ]
    },
    {
     "data": {
      "image/png": "[encoded data removed]",
      "text/plain": [
       "<matplotlib.figure.Figure at 0x12b157f90>"
      ]
     },
     "metadata": {},
     "output_type": "display_data"
    }
   ],
   "source": [
    "np.log(join_count['ref']/join_count['index']).replace([np.inf, -np.inf], np.nan).dropna().plot(kind='hist')\n",
    "# 255686\n",
    "# np.log((join_count[join_count['ref']>0].set_index('veneue')['ref']/join_count[join_count['ref']>0].set_index('veneue')['index'])).plot(kind='hist')\n",
    "plt.show()"
   ]
  },
  {
   "cell_type": "markdown",
   "metadata": {},
   "source": [
    "### H. What is the venue with the highest apparent impact factor? Do you believe this number?(http://mdanderson.libanswers.com/faq/26159)"
   ]
  },
  {
   "cell_type": "code",
   "execution_count": 160,
   "metadata": {},
   "outputs": [
    {
     "name": "stdout",
     "output_type": "stream",
     "text": [
      "555.0\n",
      "555.0\n",
      "System-on-Chip Test Architectures: Nanometer Design for Testability\n"
     ]
    }
   ],
   "source": [
    "print (join_count['ref']/join_count['index']).max()\n",
    "print (join_count['ref']/join_count['index']).idxmax()\n"
   ]
  },
  {
   "cell_type": "code",
   "execution_count": 257,
   "metadata": {},
   "outputs": [
    {
     "name": "stdout",
     "output_type": "stream",
     "text": [
      "7753 Computers and Intractability: A Guide to the Theory of NP-Completeness\n"
     ]
    },
    {
     "name": "stderr",
     "output_type": "stream",
     "text": [
      "/Users/aman/.envs/digit_rec/lib/python2.7/site-packages/ipykernel_launcher.py:12: RuntimeWarning: divide by zero encountered in log\n",
      "  if sys.path[0] == '':\n"
     ]
    },
    {
     "data": {
      "image/png": "[encoded data removed]",
      "text/plain": [
       "<matplotlib.figure.Figure at 0x1a8f89c10>"
      ]
     },
     "metadata": {},
     "output_type": "display_data"
    }
   ],
   "source": [
    "import json\n",
    "impact_index_list = {}\n",
    "impact_values_list = {}\n",
    "with open('data.json', 'r') as f:\n",
    "    impact_index_list = json.load(f)\n",
    "with open('data1.json', 'r') as f:\n",
    "    impact_values_list = json.load(f)\n",
    "max_impact = max(impact_values_list.values())\n",
    "index_ = impact_values_list.values().index(max_impact)\n",
    "key = impact_values_list.keys()[index_]\n",
    "print max_impact,key\n",
    "pd.Series(np.log(impact_values_list.values())).replace([np.inf, -np.inf], np.nan).dropna().plot(kind='hist')\n",
    "plt.show()"
   ]
  },
  {
   "cell_type": "markdown",
   "metadata": {},
   "source": [
    "### I. Now repeat the calculation from G, but restrict the calculation to venues with at least 10 publications. How does your histogram change? List the citation counts for all publications from the venue with the highest impact factor. How does the impact factor (mean number of citations) compare to the median number of citations?"
   ]
  },
  {
   "cell_type": "code",
   "execution_count": 261,
   "metadata": {},
   "outputs": [
    {
     "name": "stdout",
     "output_type": "stream",
     "text": [
      "7753 Computers and Intractability: A Guide to the Theory of NP-Completeness\n"
     ]
    },
    {
     "name": "stderr",
     "output_type": "stream",
     "text": [
      "/Users/aman/.envs/digit_rec/lib/python2.7/site-packages/ipykernel_launcher.py:9: RuntimeWarning: divide by zero encountered in log\n",
      "  if __name__ == '__main__':\n"
     ]
    },
    {
     "data": {
      "image/png": "[encoded data removed]",
      "text/plain": [
       "<matplotlib.figure.Figure at 0x1211ae510>"
      ]
     },
     "metadata": {},
     "output_type": "display_data"
    },
    {
     "name": "stdout",
     "output_type": "stream",
     "text": [
      "[u'408396']\n",
      "190551    7753\n",
      "Name: ref, dtype: int64\n",
      "7753.0\n"
     ]
    }
   ],
   "source": [
    "new_impact_dict = {}\n",
    "for key in impact_index_list:\n",
    "    if len(impact_index_list)>10:\n",
    "        new_impact_dict[key] = impact_values_list[key]\n",
    "max_impact = max(new_impact_dict.values())\n",
    "index_ = new_impact_dict.values().index(max_impact)\n",
    "key = new_impact_dict.keys()[index_]\n",
    "print max_impact,key\n",
    "pd.Series(np.log(new_impact_dict.values())).replace([np.inf, -np.inf], np.nan).dropna().plot(kind='hist')\n",
    "plt.show()             \n",
    "indexes = impact_index_list[key]\n",
    "print indexes\n",
    "df1 = ref_data.groupby('ref').count().reset_index()\n",
    "df1.columns = ['index','ref']\n",
    "print df1[df1['index'].isin(indexes)]['ref']\n",
    "print df1[df1['index'].isin(indexes)]['ref'].mean()\n"
   ]
  },
  {
   "cell_type": "markdown",
   "metadata": {},
   "source": [
    "### J. Finally, construct a list of publications for each publication year. Use this list to plot the average number of references and average number of citations per publication as a function of time. Explain the differences you see in the trends."
   ]
  },
  {
   "cell_type": "code",
   "execution_count": 209,
   "metadata": {},
   "outputs": [
    {
     "name": "stdout",
     "output_type": "stream",
     "text": [
      "CPU times: user 1min 40s, sys: 12.8 s, total: 1min 53s\n",
      "Wall time: 1min 56s\n"
     ]
    }
   ],
   "source": [
    "ref_ =[]\n",
    "cite_ = []\n",
    "time = file_data['date'].unique()\n",
    "time.sort()\n",
    "for i in time[1:]:\n",
    "    index = file_data[file_data['date']==i]['index']\n",
    "    len_ = len(index)*1.0\n",
    "    if len_:\n",
    "        ref_.append(1.0*len(ref_data[ref_data['index'].isin(index.tolist())])/len_)\n",
    "        cite_.append(1.0*len(ref_data[ref_data['ref'].isin(index.tolist())])/len_)\n",
    "    "
   ]
  },
  {
   "cell_type": "code",
   "execution_count": 220,
   "metadata": {},
   "outputs": [
    {
     "data": {
      "image/png": "[encoded data removed]",
      "text/plain": [
       "<matplotlib.figure.Figure at 0x12ecb5e90>"
      ]
     },
     "metadata": {},
     "output_type": "display_data"
    },
    {
     "data": {
      "image/png": "[encoded data removed]",
      "text/plain": [
       "<matplotlib.figure.Figure at 0x1377f5990>"
      ]
     },
     "metadata": {},
     "output_type": "display_data"
    }
   ],
   "source": [
    "plt.plot(time[1:],ref_)\n",
    "plt.show()\n",
    "plt.plot(time[1:],cite_)\n",
    "plt.show()"
   ]
  },
  {
   "cell_type": "code",
   "execution_count": null,
   "metadata": {},
   "outputs": [],
   "source": []
  }
 ],
 "metadata": {
  "kernelspec": {
   "display_name": "Python 2",
   "language": "python",
   "name": "python2"
  },
  "language_info": {
   "codemirror_mode": {
    "name": "ipython",
    "version": 2
   },
   "file_extension": ".py",
   "mimetype": "text/x-python",
   "name": "python",
   "nbconvert_exporter": "python",
   "pygments_lexer": "ipython2",
   "version": "2.7.10"
  }
 },
 "nbformat": 4,
 "nbformat_minor": 2
}
