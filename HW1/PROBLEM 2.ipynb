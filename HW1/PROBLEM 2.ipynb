{
 "cells": [
  {
   "cell_type": "code",
   "execution_count": 25,
   "metadata": {},
   "outputs": [
    {
     "name": "stdout",
     "output_type": "stream",
     "text": [
      "41270\n"
     ]
    }
   ],
   "source": [
    "%%bash\n",
    "cat '/Users/aman/Workspace/DataMining/kosarak.dat' | tr ' ' '\\n'| sort -n | tail -n 1"
   ]
  },
  {
   "cell_type": "code",
   "execution_count": 23,
   "metadata": {},
   "outputs": [
    {
     "name": "stdout",
     "output_type": "stream",
     "text": [
      "CPU times: user 3 µs, sys: 4 µs, total: 7 µs\n",
      "Wall time: 11.9 µs\n"
     ]
    }
   ],
   "source": [
    "%time \n",
    "READ_PATH = '/Users/aman/Workspace/DataMining/kosarak.dat'\n",
    "# READ_PATH = '/Users/aman/Workspace/DataMining/toy_example_Q2/kosarak10000lines_Sampling.dat'\n",
    "WRITE_PATH = '/Users/aman/Workspace/DataMining/toy_example_Q2/k.arff'\n",
    "# N_ATTR = 10094\n",
    "N_ATTR = 41270\n",
    "with open(WRITE_PATH,'w') as wf:\n",
    "    attr_str = '\\n@RELATION test\\n'\n",
    "    for i in range(N_ATTR):\n",
    "        attr_str +='@ATTRIBUTE i{0} {{0, 1}}\\n'.format(i+1)\n",
    "    attr_str+='@DATA\\n'\n",
    "    wf.write(attr_str)\n",
    "    with open(READ_PATH, 'r') as f:\n",
    "        for line in f:\n",
    "            num_list = map(lambda x:int(x)-1, set(line.split()))\n",
    "            num_list.sort()\n",
    "            wf.write('{'+' '.join(map(lambda x: str(x)+' 1,',num_list))[:-1]+'}\\n')"
   ]
  },
  {
   "cell_type": "code",
   "execution_count": null,
   "metadata": {},
   "outputs": [],
   "source": [
    "The loading of data to weka was instantaneous "
   ]
  },
  {
   "cell_type": "markdown",
   "metadata": {},
   "source": [
    "### Cycle 1\n",
    "=== Run information ===\n",
    "\n",
    "Scheme:       weka.associations.FPGrowth -P 2 -I -1 -N 10 -T 0 -C 0.99 -D 0.05 -U 1.0 -M 49500.0 -S\n",
    "Relation:     test\n",
    "Instances:    990002\n",
    "Attributes:   41270\n",
    "              [list of attributes omitted]\n",
    "=== Associator model (full training set) ===\n",
    "\n",
    "FPGrowth found 2 rules\n",
    "\n",
    "1. [i11=1, i218=1, i148=1]: 50098 ==> [i6=1]: 49866   <conf:(1)> lift:(1.64) lev:(0.02) conv:(84.4) \n",
    "2. [i11=1, i148=1]: 55759 ==> [i6=1]: 55230   <conf:(0.99)> lift:(1.63) lev:(0.02) conv:(41.3) \n",
    "\n",
    "   \n",
    "### Cycle 2\n",
    "=== Run information ===\n",
    "\n",
    "Scheme:       weka.associations.FPGrowth -P 2 -I -1 -N 10 -T 0 -C 0.99 -D 0.05 -U 1.0 -M 49500.0 -S\n",
    "Relation:     test\n",
    "Instances:    990002\n",
    "Attributes:   41270\n",
    "              [list of attributes omitted]\n",
    "=== Associator model (full training set) ===\n",
    "\n",
    "FPGrowth found 2 rules\n",
    "\n",
    "1. [i11=1, i218=1, i148=1]: 50098 ==> [i6=1]: 49866   <conf:(1)> lift:(1.64) lev:(0.02) conv:(84.4) \n",
    "2. [i11=1, i148=1]: 55759 ==> [i6=1]: 55230   <conf:(0.99)> lift:(1.63) lev:(0.02) conv:(41.3) \n",
    "\n",
    "\n",
    "### Cycle 3\n",
    "=== Run information ===\n",
    "\n",
    "Scheme:       weka.associations.FPGrowth -P 2 -I -1 -N 10 -T 0 -C 0.99 -D 0.05 -U 1.0 -M 49500.0 -S\n",
    "Relation:     test\n",
    "Instances:    990002\n",
    "Attributes:   41270\n",
    "              [list of attributes omitted]\n",
    "=== Associator model (full training set) ===\n",
    "\n",
    "FPGrowth found 2 rules\n",
    "\n",
    "1. [i11=1, i218=1, i148=1]: 50098 ==> [i6=1]: 49866   <conf:(1)> lift:(1.64) lev:(0.02) conv:(84.4) \n",
    "2. [i11=1, i148=1]: 55759 ==> [i6=1]: 55230   <conf:(0.99)> lift:(1.63) lev:(0.02) conv:(41.3) \n",
    "\n",
    "\n",
    "### Cycle 4\n",
    "=== Run information ===\n",
    "\n",
    "Scheme:       weka.associations.FPGrowth -P 2 -I -1 -N 10 -T 0 -C 0.99 -D 0.05 -U 1.0 -M 49500.0 -S\n",
    "Relation:     test\n",
    "Instances:    990002\n",
    "Attributes:   41270\n",
    "              [list of attributes omitted]\n",
    "=== Associator model (full training set) ===\n",
    "\n",
    "FPGrowth found 2 rules\n",
    "\n",
    "1. [i11=1, i218=1, i148=1]: 50098 ==> [i6=1]: 49866   <conf:(1)> lift:(1.64) lev:(0.02) conv:(84.4) \n",
    "2. [i11=1, i148=1]: 55759 ==> [i6=1]: 55230   <conf:(0.99)> lift:(1.63) lev:(0.02) conv:(41.3) \n",
    "\n",
    "\n",
    "### Cycle 5\n",
    "=== Run information ===\n",
    "\n",
    "Scheme:       weka.associations.FPGrowth -P 2 -I -1 -N 10 -T 0 -C 0.99 -D 0.05 -U 1.0 -M 49500.0 -S\n",
    "Relation:     test\n",
    "Instances:    990002\n",
    "Attributes:   41270\n",
    "              [list of attributes omitted]\n",
    "=== Associator model (full training set) ===\n",
    "\n",
    "FPGrowth found 2 rules\n",
    "\n",
    "1. [i11=1, i218=1, i148=1]: 50098 ==> [i6=1]: 49866   <conf:(1)> lift:(1.64) lev:(0.02) conv:(84.4) \n",
    "2. [i11=1, i148=1]: 55759 ==> [i6=1]: 55230   <conf:(0.99)> lift:(1.63) lev:(0.02) conv:(41.3) \n",
    "\n"
   ]
  },
  {
   "cell_type": "markdown",
   "metadata": {},
   "source": [
    "19:48:20: Started weka.associations.FPGrowth \n",
    "\n",
    "19:48:20: Command: weka.associations.FPGrowth -P 2 -I -1 -N 10 -T 0 -C 0.99 -D 0.05 -U 1.0 -M 49500.0 -S\n",
    "\n",
    "19:48:20: Finished weka.associations.FPGrowth\n",
    "<br><br>\n",
    "\n",
    "19:49:00: Started weka.associations.FPGrowth\n",
    "\n",
    "19:49:00: Command: weka.associations.FPGrowth -P 2 -I -1 -N 10 -T 0 -C 0.99 -D 0.05 -U 1.0 -M 49500.0 -S\n",
    "\n",
    "19:49:01: Finished weka.associations.FPGrowth\n",
    "\n",
    "<br><br>\n",
    "19:49:02: Started weka.associations.FPGrowth\n",
    "\n",
    "19:49:02: Command: weka.associations.FPGrowth -P 2 -I -1 -N 10 -T 0 -C 0.99 -D 0.05 -U 1.0 -M 49500.0 -S\n",
    "\n",
    "19:49:02: Finished weka.associations.FPGrowth\n",
    "\n",
    "<br><br>\n",
    "19:49:02: Started weka.associations.FPGrowth\n",
    "\n",
    "19:49:02: Command: weka.associations.FPGrowth -P 2 -I -1 -N 10 -T 0 -C 0.99 -D 0.05 -U 1.0 -M 49500.0 -S\n",
    "\n",
    "19:49:02: Finished weka.associations.FPGrowth\n",
    "\n",
    "<br><br>\n",
    "19:49:03: Started weka.associations.FPGrowth\n",
    "\n",
    "19:49:03: Command: weka.associations.FPGrowth -P 2 -I -1 -N 10 -T 0 -C 0.99 -D 0.05 -U 1.0 -M 49500.0 -S\n",
    "\n",
    "19:49:03: Finished weka.associations.FPGrowth"
   ]
  },
  {
   "cell_type": "code",
   "execution_count": null,
   "metadata": {},
   "outputs": [],
   "source": []
  }
 ],
 "metadata": {
  "kernelspec": {
   "display_name": "Python 2",
   "language": "python",
   "name": "python2"
  },
  "language_info": {
   "codemirror_mode": {
    "name": "ipython",
    "version": 2
   },
   "file_extension": ".py",
   "mimetype": "text/x-python",
   "name": "python",
   "nbconvert_exporter": "python",
   "pygments_lexer": "ipython2",
   "version": "2.7.10"
  }
 },
 "nbformat": 4,
 "nbformat_minor": 2
}
